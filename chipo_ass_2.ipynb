{
  "cells": [
    {
      "cell_type": "markdown",
      "metadata": {
        "id": "UjqeRQ82Q2jD"
      },
      "source": [
        "# Ex1 - Filtering and Sorting Data"
      ]
    },
    {
      "cell_type": "markdown",
      "metadata": {
        "id": "YIEmpd6pQ2jF"
      },
      "source": [
        "This time we are going to pull data directly from the internet.\n",
        "Special thanks to: https://github.com/justmarkham for sharing the dataset and materials.\n",
        "\n",
        "### Step 1. Import the necessary libraries"
      ]
    },
    {
      "cell_type": "code",
      "execution_count": 1,
      "metadata": {
        "id": "sVsUzNsNQ2jG"
      },
      "outputs": [],
      "source": [
        "import pandas as pd"
      ]
    },
    {
      "cell_type": "markdown",
      "metadata": {
        "id": "RQkF-KEHQ2jH"
      },
      "source": [
        "### Step 2. Import the dataset from this [address](https://raw.githubusercontent.com/justmarkham/DAT8/master/data/chipotle.tsv). "
      ]
    },
    {
      "cell_type": "markdown",
      "metadata": {
        "id": "nR6AvmpGQ2jI"
      },
      "source": [
        "### Step 3. Assign it to a variable called chipo."
      ]
    },
    {
      "cell_type": "code",
      "execution_count": null,
      "metadata": {
        "id": "fBd9e3Z0Q2jI"
      },
      "outputs": [],
      "source": [
        "chipo = pd.read_csv(\"https://raw.githubusercontent.com/justmarkham/DAT8/master/data/chipotle.tsv\",delimiter=\"\\t\")\n",
        "chipo"
      ]
    },
    {
      "cell_type": "markdown",
      "metadata": {
        "id": "Q3LJ0D0RQ2jI"
      },
      "source": [
        "### Step 4. How many products cost more than $10.00?"
      ]
    },
    {
      "cell_type": "code",
      "execution_count": 16,
      "metadata": {
        "colab": {
          "base_uri": "https://localhost:8080/"
        },
        "id": "6ta94-NiQ2jI",
        "outputId": "f58fb00b-83e2-413d-e235-9008f461a529"
      },
      "outputs": [
        {
          "output_type": "execute_result",
          "data": {
            "text/plain": [
              "1130"
            ]
          },
          "metadata": {},
          "execution_count": 16
        }
      ],
      "source": [
        "chipo[chipo[\"item_price\"].apply(lambda x: float(x[1:]) > 10.00)].shape[0]\n"
      ]
    },
    {
      "cell_type": "markdown",
      "metadata": {
        "id": "G48whKuGQ2jJ"
      },
      "source": [
        "### Step 5. What is the price of each item? \n",
        "###### print a data frame with only two columns item_name and item_price"
      ]
    },
    {
      "cell_type": "code",
      "execution_count": null,
      "metadata": {
        "id": "CG9ocl4UQ2jJ"
      },
      "outputs": [],
      "source": [
        "chipo.loc[:,[\"item_name\",\"item_price\"]]"
      ]
    },
    {
      "cell_type": "markdown",
      "metadata": {
        "id": "_-164r22Q2jJ"
      },
      "source": [
        "### Step 6. Sort by the name of the item"
      ]
    },
    {
      "cell_type": "code",
      "execution_count": null,
      "metadata": {
        "id": "Yv8mXFDqQ2jJ"
      },
      "outputs": [],
      "source": [
        "# chipo[\"item_name\"].sort_values()\n",
        "chipo[\"item_name\"].sort_values(ascending=False)"
      ]
    },
    {
      "cell_type": "markdown",
      "metadata": {
        "id": "ZpcTiR9WQ2jJ"
      },
      "source": [
        "### Step 7. What was the quantity of the most expensive item ordered?"
      ]
    },
    {
      "cell_type": "code",
      "execution_count": null,
      "metadata": {
        "id": "zScEEXr9Q2jK"
      },
      "outputs": [],
      "source": [
        "chipo[chipo[\"item_price\"].apply(lambda x: x == chipo[\"item_price\"].max())][\"quantity\"]"
      ]
    },
    {
      "cell_type": "markdown",
      "metadata": {
        "id": "4vAwXRkwQ2jK"
      },
      "source": [
        "### Step 8. How many times was a Veggie Salad Bowl ordered?"
      ]
    },
    {
      "cell_type": "code",
      "execution_count": null,
      "metadata": {
        "id": "sr4NYkx7Q2jK"
      },
      "outputs": [],
      "source": [
        "chipo[chipo[\"item_name\"].apply(lambda x: x == \"Veggie Salad\")].shape[0]\n",
        "# chipo"
      ]
    },
    {
      "cell_type": "markdown",
      "metadata": {
        "id": "xtLG03pGQ2jK"
      },
      "source": [
        "### Step 9. How many times did someone order more than one Canned Soda?"
      ]
    },
    {
      "cell_type": "code",
      "execution_count": 64,
      "metadata": {
        "colab": {
          "base_uri": "https://localhost:8080/"
        },
        "id": "IRv5DBY9Q2jL",
        "outputId": "b77c7658-8c22-470c-96c6-4e0d9018a059"
      },
      "outputs": [
        {
          "output_type": "execute_result",
          "data": {
            "text/plain": [
              "20"
            ]
          },
          "metadata": {},
          "execution_count": 64
        }
      ],
      "source": [
        "list(chipo[chipo[\"item_name\"].apply(lambda x: x == \"Canned Soda\")][\"quantity\"]>1).count(True)\n",
        "# list(l).count(True)"
      ]
    }
  ],
  "metadata": {
    "kernelspec": {
      "display_name": "Python 2",
      "language": "python",
      "name": "python2"
    },
    "language_info": {
      "codemirror_mode": {
        "name": "ipython",
        "version": 2
      },
      "file_extension": ".py",
      "mimetype": "text/x-python",
      "name": "python",
      "nbconvert_exporter": "python",
      "pygments_lexer": "ipython2",
      "version": "2.7.11"
    },
    "colab": {
      "provenance": []
    }
  },
  "nbformat": 4,
  "nbformat_minor": 0
}