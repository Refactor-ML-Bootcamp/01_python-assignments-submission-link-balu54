{
  "cells": [
    {
      "cell_type": "markdown",
      "metadata": {
        "id": "4ardcOwppiru"
      },
      "source": [
        "# Ex2 - Getting and Knowing your Data"
      ]
    },
    {
      "cell_type": "markdown",
      "metadata": {
        "id": "eLbKJYzApirx"
      },
      "source": [
        "This time we are going to pull data directly from the internet.\n",
        "Special thanks to: https://github.com/justmarkham for sharing the dataset and materials.\n",
        "\n",
        "### Step 1. Import the necessary libraries"
      ]
    },
    {
      "cell_type": "code",
      "execution_count": null,
      "metadata": {
        "id": "Jwhi_59Ppiry"
      },
      "outputs": [],
      "source": [
        "import pandas as pd"
      ]
    },
    {
      "cell_type": "markdown",
      "metadata": {
        "id": "UAjj3z_Wpirz"
      },
      "source": [
        "### Step 2. Import the dataset from this [address](https://raw.githubusercontent.com/justmarkham/DAT8/master/data/chipotle.tsv). "
      ]
    },
    {
      "cell_type": "markdown",
      "metadata": {
        "id": "El8HSmW-pirz"
      },
      "source": [
        "### Step 3. Assign it to a variable called chipo."
      ]
    },
    {
      "cell_type": "code",
      "execution_count": null,
      "metadata": {
        "id": "6T1K0nV-pirz"
      },
      "outputs": [],
      "source": [
        "chipo = pd.read_csv(\"https://raw.githubusercontent.com/justmarkham/DAT8/master/data/chipotle.tsv\",delimiter=\"\\t\")\n",
        "chipo"
      ]
    },
    {
      "cell_type": "markdown",
      "metadata": {
        "id": "L0wlyC1ipirz"
      },
      "source": [
        "### Step 4. See the first 10 entries"
      ]
    },
    {
      "cell_type": "code",
      "execution_count": null,
      "metadata": {
        "scrolled": false,
        "id": "koIgZtVRpir0"
      },
      "outputs": [],
      "source": [
        "#Index(['order_id        quantity        item_name       choice_description      item_price']\n",
        "chipo.head(10)"
      ]
    },
    {
      "cell_type": "markdown",
      "metadata": {
        "id": "q1aq0UAlpir0"
      },
      "source": [
        "### Step 5. What is the number of observations in the dataset?"
      ]
    },
    {
      "cell_type": "code",
      "execution_count": null,
      "metadata": {
        "id": "n69Jyxnzpir0",
        "colab": {
          "base_uri": "https://localhost:8080/"
        },
        "outputId": "d628822f-6acd-4f8b-c11d-34cc63cdd13d"
      },
      "outputs": [
        {
          "output_type": "execute_result",
          "data": {
            "text/plain": [
              "4622"
            ]
          },
          "metadata": {},
          "execution_count": 4
        }
      ],
      "source": [
        "# Solution 1\n",
        "len(chipo)\n"
      ]
    },
    {
      "cell_type": "code",
      "execution_count": null,
      "metadata": {
        "id": "oJ8CTh2tpir0",
        "colab": {
          "base_uri": "https://localhost:8080/"
        },
        "outputId": "11e7cd8e-2f43-4803-bc11-c72695975c9b"
      },
      "outputs": [
        {
          "output_type": "execute_result",
          "data": {
            "text/plain": [
              "4622"
            ]
          },
          "metadata": {},
          "execution_count": 3
        }
      ],
      "source": [
        "# Solution 2\n",
        "chipo.shape[0]\n"
      ]
    },
    {
      "cell_type": "markdown",
      "metadata": {
        "id": "RTkUmi2qpir1"
      },
      "source": [
        "### Step 6. What is the number of columns in the dataset?"
      ]
    },
    {
      "cell_type": "code",
      "execution_count": null,
      "metadata": {
        "id": "uvMz9V2Gpir1",
        "colab": {
          "base_uri": "https://localhost:8080/"
        },
        "outputId": "11edaf87-d5f9-4592-ac5c-1bccec8ee798"
      },
      "outputs": [
        {
          "output_type": "execute_result",
          "data": {
            "text/plain": [
              "5"
            ]
          },
          "metadata": {},
          "execution_count": 5
        }
      ],
      "source": [
        "len(chipo.columns)"
      ]
    },
    {
      "cell_type": "markdown",
      "metadata": {
        "id": "ns5mYFQ2pir1"
      },
      "source": [
        "### Step 7. Print the name of all the columns."
      ]
    },
    {
      "cell_type": "code",
      "execution_count": null,
      "metadata": {
        "colab": {
          "base_uri": "https://localhost:8080/"
        },
        "id": "7VvGM5zmpir1",
        "outputId": "9172c3f5-1273-466a-9daa-57aac2aca9a0"
      },
      "outputs": [
        {
          "output_type": "execute_result",
          "data": {
            "text/plain": [
              "['order_id', 'quantity', 'item_name', 'choice_description', 'item_price']"
            ]
          },
          "metadata": {},
          "execution_count": 43
        }
      ],
      "source": [
        "list(chipo.columns)"
      ]
    },
    {
      "cell_type": "markdown",
      "metadata": {
        "id": "rn_Wz8Qlpir1"
      },
      "source": [
        "### Step 8. How is the dataset indexed?"
      ]
    },
    {
      "cell_type": "code",
      "execution_count": null,
      "metadata": {
        "id": "CS_CugJupir1"
      },
      "outputs": [],
      "source": [
        "# df = pd.read_csv(\"csv/txt file path or data\").set_index(\"column_name\") "
      ]
    },
    {
      "cell_type": "markdown",
      "metadata": {
        "id": "CAkkTW-_pir1"
      },
      "source": [
        "### Step 9. Which was the most-ordered item? "
      ]
    },
    {
      "cell_type": "code",
      "execution_count": null,
      "metadata": {
        "id": "NCBG9XcIpir2"
      },
      "outputs": [],
      "source": [
        "chipo[\"item_name\"].value_counts().head(1)"
      ]
    },
    {
      "cell_type": "markdown",
      "metadata": {
        "id": "vRA7ku1zpir2"
      },
      "source": [
        "### Step 10. For the most-ordered item, how many items were ordered?"
      ]
    },
    {
      "cell_type": "code",
      "execution_count": null,
      "metadata": {
        "id": "fU_LGJPBpir2",
        "colab": {
          "base_uri": "https://localhost:8080/"
        },
        "outputId": "549d3f81-7655-4bce-bdd6-437f5962009b"
      },
      "outputs": [
        {
          "output_type": "execute_result",
          "data": {
            "text/plain": [
              "761"
            ]
          },
          "metadata": {},
          "execution_count": 10
        }
      ],
      "source": [
        "chipo[chipo[\"item_name\"]==\"Chicken Bowl\"][\"quantity\"].sum()"
      ]
    },
    {
      "cell_type": "markdown",
      "metadata": {
        "id": "i1ae3SH7pir2"
      },
      "source": [
        "### Step 11. What was the most ordered item in the choice_description column?"
      ]
    },
    {
      "cell_type": "code",
      "execution_count": null,
      "metadata": {
        "id": "q5Gx8JMtpir2",
        "colab": {
          "base_uri": "https://localhost:8080/"
        },
        "outputId": "678c29c3-1d7c-42b1-ad27-0f788d7cd88f"
      },
      "outputs": [
        {
          "output_type": "execute_result",
          "data": {
            "text/plain": [
              "[Diet Coke]    134\n",
              "Name: choice_description, dtype: int64"
            ]
          },
          "metadata": {},
          "execution_count": 12
        }
      ],
      "source": [
        "chipo[\"choice_description\"].value_counts().head(1)"
      ]
    },
    {
      "cell_type": "markdown",
      "metadata": {
        "id": "Do1Mi1gopir2"
      },
      "source": [
        "### Step 12. How many items were orderd in total?"
      ]
    },
    {
      "cell_type": "code",
      "execution_count": null,
      "metadata": {
        "id": "_rw9vfqGpir2",
        "colab": {
          "base_uri": "https://localhost:8080/"
        },
        "outputId": "045d5cb2-78f1-4154-d107-b88ecc6cab8e"
      },
      "outputs": [
        {
          "output_type": "execute_result",
          "data": {
            "text/plain": [
              "1834"
            ]
          },
          "metadata": {},
          "execution_count": 138
        }
      ],
      "source": [
        "len(chipo[\"order_id\"].unique())"
      ]
    },
    {
      "cell_type": "markdown",
      "metadata": {
        "id": "mnyfz67Fpir2"
      },
      "source": [
        "### Step 13. Turn the item price into a float"
      ]
    },
    {
      "cell_type": "code",
      "source": [
        "for i,j in enumerate(chipo[\"item_price\"]):\n",
        "  chipo[\"item_price\"][i] = float(chipo[\"item_price\"][i][1:])"
      ],
      "metadata": {
        "id": "gEQmkdIF7npR"
      },
      "execution_count": null,
      "outputs": []
    },
    {
      "cell_type": "markdown",
      "metadata": {
        "id": "oXrseN4Epir3"
      },
      "source": [
        "#### Step 13.a. Check the item price type"
      ]
    },
    {
      "cell_type": "code",
      "execution_count": null,
      "metadata": {
        "id": "wL1t2-qzpir3",
        "colab": {
          "base_uri": "https://localhost:8080/"
        },
        "outputId": "8ac648af-f1e0-469f-aaea-e8357e85d0bd"
      },
      "outputs": [
        {
          "output_type": "execute_result",
          "data": {
            "text/plain": [
              "dtype('float64')"
            ]
          },
          "metadata": {},
          "execution_count": 154
        }
      ],
      "source": [
        "chipo[\"item_price\"].dtype"
      ]
    },
    {
      "cell_type": "markdown",
      "metadata": {
        "id": "hw3X6qbHpir3"
      },
      "source": [
        "#### Step 13.b. Create a lambda function and change the type of item price"
      ]
    },
    {
      "cell_type": "code",
      "execution_count": null,
      "metadata": {
        "collapsed": true,
        "id": "hJPVB25ppir3"
      },
      "outputs": [],
      "source": [
        "chipo[\"item_price\"] = chipo[\"item_price\"].apply(lambda x: float(x[1:]))"
      ]
    },
    {
      "cell_type": "markdown",
      "metadata": {
        "id": "Paw5m2WSpir3"
      },
      "source": [
        "#### Step 13.c. Check the item price type"
      ]
    },
    {
      "cell_type": "code",
      "execution_count": null,
      "metadata": {
        "id": "1iVZTTgopir3",
        "colab": {
          "base_uri": "https://localhost:8080/"
        },
        "outputId": "1b3ac6c1-e5d2-4954-9552-84bf0790956f"
      },
      "outputs": [
        {
          "output_type": "execute_result",
          "data": {
            "text/plain": [
              "dtype('float64')"
            ]
          },
          "metadata": {},
          "execution_count": 153
        }
      ],
      "source": [
        "chipo.item_price.dtype"
      ]
    },
    {
      "cell_type": "markdown",
      "metadata": {
        "id": "Oasto2Wwpir3"
      },
      "source": [
        "### Step 14. How much was the revenue for the period in the dataset?"
      ]
    },
    {
      "cell_type": "code",
      "execution_count": null,
      "metadata": {
        "id": "72pjGL4npir3",
        "colab": {
          "base_uri": "https://localhost:8080/"
        },
        "outputId": "23b2db45-f0db-4997-886d-55641d9c2090"
      },
      "outputs": [
        {
          "output_type": "execute_result",
          "data": {
            "text/plain": [
              "39237.020000000055"
            ]
          },
          "metadata": {},
          "execution_count": 130
        }
      ],
      "source": [
        "sum(chipo[\"quantity\"]*chipo[\"item_price\"])\n",
        "#['order_id', 'quantity', 'item_name', 'choice_description',\n",
        "      #  'item_price']"
      ]
    },
    {
      "cell_type": "markdown",
      "metadata": {
        "id": "xvsg4GQ3pir3"
      },
      "source": [
        "### Step 15. How many orders were made in the period?"
      ]
    },
    {
      "cell_type": "code",
      "execution_count": null,
      "metadata": {
        "id": "TOCYtvKupir3"
      },
      "outputs": [],
      "source": [
        "chipo['quantity'].sum()"
      ]
    },
    {
      "cell_type": "markdown",
      "metadata": {
        "id": "Bz2zk51Ppir4"
      },
      "source": [
        "### Step 16. What is the average revenue amount per order?"
      ]
    },
    {
      "cell_type": "code",
      "execution_count": null,
      "metadata": {
        "id": "bbFAyMF0pir4",
        "colab": {
          "base_uri": "https://localhost:8080/"
        },
        "outputId": "a6c45940-8ab5-4c5c-abd4-693b645cbd8a"
      },
      "outputs": [
        {
          "output_type": "execute_result",
          "data": {
            "text/plain": [
              "7.89159694288014"
            ]
          },
          "metadata": {},
          "execution_count": 71
        }
      ],
      "source": [
        "# Solution 1\n",
        "sum(chipo[\"quantity\"]*chipo[\"item_price\"]) / chipo[\"quantity\"].sum()\n"
      ]
    },
    {
      "cell_type": "code",
      "execution_count": null,
      "metadata": {
        "id": "DAO5iJEspir4",
        "colab": {
          "base_uri": "https://localhost:8080/"
        },
        "outputId": "17cc9a27-ca6d-4a91-d04d-b31950baa8d8"
      },
      "outputs": [
        {
          "output_type": "execute_result",
          "data": {
            "text/plain": [
              "7.89159694288014"
            ]
          },
          "metadata": {},
          "execution_count": 74
        }
      ],
      "source": [
        "# Solution 2\n",
        "sum(chipo[\"quantity\"]*chipo[\"item_price\"]) / chipo[\"quantity\"].sum().mean()\n"
      ]
    },
    {
      "cell_type": "markdown",
      "metadata": {
        "id": "D7vm5FYCpir4"
      },
      "source": [
        "### Step 17. How many different items are sold?"
      ]
    },
    {
      "cell_type": "code",
      "execution_count": null,
      "metadata": {
        "id": "YghoyOVNpir4"
      },
      "outputs": [],
      "source": [
        "# ['order_id', 'quantity', 'item_name', 'choice_description','item_price']\n",
        "chipo[\"item_name\"].unique()\n"
      ]
    }
  ],
  "metadata": {
    "anaconda-cloud": {},
    "kernelspec": {
      "display_name": "Python [default]",
      "language": "python",
      "name": "python2"
    },
    "language_info": {
      "codemirror_mode": {
        "name": "ipython",
        "version": 2
      },
      "file_extension": ".py",
      "mimetype": "text/x-python",
      "name": "python",
      "nbconvert_exporter": "python",
      "pygments_lexer": "ipython2",
      "version": "2.7.12"
    },
    "colab": {
      "provenance": []
    }
  },
  "nbformat": 4,
  "nbformat_minor": 0
}